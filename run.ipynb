##Anaconda開発環境でpyファイルを実行するためのファイル##
%run app.py
